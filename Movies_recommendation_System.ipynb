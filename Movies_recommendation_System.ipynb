{
 "cells": [
  {
   "cell_type": "markdown",
   "id": "a343f68d",
   "metadata": {},
   "source": [
    "Load the Dataset\n",
    "\n",
    "Use Pandas to read the movie ratings data"
   ]
  },
  {
   "cell_type": "code",
   "execution_count": null,
   "id": "0bacaa99",
   "metadata": {},
   "outputs": [],
   "source": [
    "# Movie Recommendation System - Collaborative Filtering\n",
    "\n",
    "# Import required libraries\n",
    "import pandas as pd # For data manipulation\n",
    "import numpy as np # For numerical computations\n",
    "\n",
    "# Load user ratings\n",
    "\n",
    "# Define column names for user ratings\n",
    "r_cols = ['user_id', 'movie_id', 'rating', 'timestamp']\n",
    "# Load dataset with only required columns: user_id, movie_id, rating\n",
    "ratings = pd.read_csv('./dataset/u.data', sep='\\t', names=r_cols, usecols=[0,1,2])\n",
    "\n",
    "# Load movie information dataset\n",
    "\n",
    "# Define column names for movie details\n",
    "m_cols = ['movie_id', 'title']\n",
    "\n",
    "# Load dataset with only required columns: movie_id, title\n",
    "movies = pd.read_csv('./dataset/u.item', sep='|', names=m_cols, usecols=[0,1], encoding=\"ISO-8859-1\")\n",
    "\n",
    "# Merge both datasets\n",
    "ratings = pd.merge(ratings, movies, on=\"movie_id\")\n",
    "\n",
    "# Display the first few rows to check dataset structure\n",
    "ratings.head()"
   ]
  },
  {
   "cell_type": "code",
   "execution_count": null,
   "id": "441d5bf5",
   "metadata": {},
   "outputs": [],
   "source": [
    "# Create user-movie rating matrix\n",
    "\n",
    "# Pivot data to create a matrix where:\n",
    "# Rows = Users, Columns = Movies, Values = Ratings given by users\n",
    "user_movie_ratings = ratings.pivot_table(index='user_id', columns='title', values='rating')\n",
    "\n",
    "# Display the user-movie rating matrix\n",
    "user_movie_ratings.head()"
   ]
  },
  {
   "cell_type": "code",
   "execution_count": null,
   "id": "677b379a",
   "metadata": {},
   "outputs": [],
   "source": [
    "# Import scikit-learn for similarity calculations\n",
    "from sklearn.metrics.pairwise import cosine_similarity\n",
    "\n",
    "# Compute item-based similarity (Movie similarity)\n",
    "\n",
    "# Fill missing values with 0 (since some users may not rate all movies)\n",
    "\n",
    "# Compute cosine similarity between movies\n",
    "movie_similarity = cosine_similarity(user_movie_ratings.fillna(0).T)\n",
    "\n",
    "# Convert similarity matrix into a DataFrame for easy lookup\n",
    "movie_similarity_df = pd.DataFrame(movie_similarity, index=user_movie_ratings.columns, columns=user_movie_ratings.columns)"
   ]
  },
  {
   "cell_type": "markdown",
   "id": "f777b7ac",
   "metadata": {},
   "source": [
    "Find similarity between users to suggest movies based on similar preferences"
   ]
  },
  {
   "cell_type": "code",
   "execution_count": null,
   "id": "85e9fd80",
   "metadata": {},
   "outputs": [],
   "source": [
    "# Compute user-based similarity\n",
    "\n",
    "# Fill missing values with 0 (as some users may not rate all movies)\n",
    "\n",
    "# Compute cosine similarity between users\n",
    "user_similarity = cosine_similarity(user_movie_ratings.fillna(0))\n",
    "\n",
    "# Convert similarity matrix into a DataFrame for easy lookup\n",
    "user_similarity_df = pd.DataFrame(user_similarity, index=user_movie_ratings.index, columns=user_movie_ratings.index)"
   ]
  },
  {
   "cell_type": "markdown",
   "id": "c723b9a0",
   "metadata": {},
   "source": [
    "Recommend movies based on similarity"
   ]
  },
  {
   "cell_type": "code",
   "execution_count": null,
   "id": "4df1f696",
   "metadata": {},
   "outputs": [],
   "source": [
    "def get_movie_recommendations(movie_name, num_recommendations=5):\n",
    "    # \"\"\"\n",
    "    # Returns 'num_recommendations' movies similar to the given 'movie_name'.\n",
    "    # Uses precomputed movie similarity matrix for recommendations.\n",
    "    \n",
    "    # Parameters:\n",
    "    # movie_name (str): Movie title to find similar movies.\n",
    "    # num_recommendations (int): Number of movies to return.\n",
    "    \n",
    "    # Returns:\n",
    "    # list: List of recommended movie titles.\n",
    "    # \"\"\"\n",
    "    similar_movies = movie_similarity_df[movie_name].sort_values(ascending=False)[1:num_recommendations+1]\n",
    "    return similar_movies.index.tolist()\n",
    "\n",
    "# Example usage to get recommendations for \"Toy Story (1995)\"\n",
    "print(get_movie_recommendations(\"Toy Story (1995)\", 5))"
   ]
  },
  {
   "cell_type": "markdown",
   "id": "e1f3bed9",
   "metadata": {},
   "source": [
    "Suggest movies based on user preferences"
   ]
  },
  {
   "cell_type": "code",
   "execution_count": null,
   "id": "ecab3f2a",
   "metadata": {},
   "outputs": [],
   "source": [
    "# Function: Get Movie Recommendations for a Specific User\n",
    "\n",
    "def recommend_movies_for_user(user_id, num_recommendations=5):\n",
    "    # \"\"\"\n",
    "    # Returns 'num_recommendations' recommended movies for a given user \n",
    "    # by analyzing preferences of similar users.\n",
    "    \n",
    "    # Parameters:\n",
    "    # user_id (int): User ID for whom recommendations are needed.\n",
    "    # num_recommendations (int): Number of movies to return.\n",
    "    \n",
    "    # Returns:\n",
    "    # pandas.Series: Recommended movies with predicted ratings.\n",
    "    # \"\"\"\n",
    "    similar_users = user_similarity_df[user_id].sort_values(ascending=False)[1:6].index\n",
    "    recommendations = user_movie_ratings.loc[similar_users].mean().sort_values(ascending=False)\n",
    "    return recommendations.head(num_recommendations)\n",
    "\n",
    "# Example usage to get recommendations for user ID 300\n",
    "print(recommend_movies_for_user(300))"
   ]
  },
  {
   "cell_type": "markdown",
   "id": "166104d8",
   "metadata": {},
   "source": [
    "**Root Mean Squared Error (RMSE)**\n",
    "\n",
    "Evaluate recommendation system:\n"
   ]
  },
  {
   "cell_type": "code",
   "execution_count": null,
   "id": "2c2297c1",
   "metadata": {},
   "outputs": [],
   "source": [
    "# Import the mean_squared_error function from scikit-learn\n",
    "\n",
    "# Used to calculate the difference between actual and predicted ratings,\n",
    "\n",
    "# helping to evaluate the accuracy of the recommendation system.\n",
    "from sklearn.metrics import mean_squared_error\n",
    "\n",
    "# Evaluation Metric: Root Mean Squared Error (RMSE)\n",
    "\n",
    "# Prepare actual user ratings\n",
    "actual_ratings = ratings.pivot_table(index='user_id', columns='title', values='rating')\n",
    "\n",
    "# Predict ratings by averaging ratings from similar users\n",
    "predicted_ratings = user_movie_ratings.copy()\n",
    "for user_id in user_movie_ratings.index:\n",
    "    similar_users = user_similarity_df[user_id].sort_values(ascending=False)[1:6].index\n",
    "    predicted_ratings.loc[user_id] = user_movie_ratings.loc[similar_users].mean()\n",
    "\n",
    "# Compute RMSE to evaluate recommendation accuracy\n",
    "mse = mean_squared_error(actual_ratings.fillna(0), predicted_ratings.fillna(0))\n",
    "rmse = np.sqrt(mse)\n",
    "\n",
    "# Display RMSE value\n",
    "print(\"RMSE\", rmse)"
   ]
  },
  {
   "cell_type": "code",
   "execution_count": null,
   "id": "413a27e7",
   "metadata": {},
   "outputs": [],
   "source": [
    "# Evaluation Metric: Precision@K\n",
    "\n",
    "def precision_at_k(recommended_movies, relevant_movies, k):\n",
    "    # \"\"\"\n",
    "    # Computes Precision@K to measure how many recommended movies align with\n",
    "    # the movies a user rated highly.\n",
    "    \n",
    "    # Parameters:\n",
    "    # recommended_movies (list): List of recommended movie titles.\n",
    "    # relevant_movies (list): List of top-rated movies by the user.\n",
    "    # k (int): The 'K' threshold for evaluation.\n",
    "    \n",
    "    # Returns:\n",
    "    # float: Precision score (ranges between 0 and 1).\n",
    "    # \"\"\"\n",
    "    recommended_at_k = recommended_movies[:k]\n",
    "    hits = len(set(recommended_at_k) & set(relevant_movies))\n",
    "    return hits / k\n",
    "\n",
    "\n",
    "# Example usage for user ID 300\n",
    "user_id = 300 # Example user\n",
    "recommended_movies = recommend_movies_for_user(user_id, 10).index.tolist()\n",
    "relevant_movies = ratings[ratings['user_id'] == user_id].sort_values(by='rating', ascending=False)['title'].head(10).tolist()\n",
    "\n",
    "# Compute Precision@K and display the result\n",
    "precision = precision_at_k(recommended_movies, relevant_movies, 5)\n",
    "print(f\"Precision@5: {precision:.2f}\")"
   ]
  },
  {
   "cell_type": "code",
   "execution_count": null,
   "id": "95bf2c8d",
   "metadata": {},
   "outputs": [],
   "source": [
    "from sklearn.decomposition import TruncatedSVD\n",
    "\n",
    "user_movie_matrix = ratings.pivot_table(index='user_id', columns='title', values='rating')\n",
    "\n",
    "# Fill missing values with 0 (since some users may not have rated all movies)\n",
    "\n",
    "user_movie_matrix_filled = user_movie_matrix.fillna(0)\n",
    "\n",
    "# Apply singular value Decomposition\n",
    "\n",
    "svd = TruncatedSVD(n_components=20) # Reduce dimensions to 20 latent factors\n",
    "\n",
    "latent_matrix = svd.fit_transform(user_movie_matrix_filled)\n",
    "\n",
    "# Convert back to DataFrame for readability\n",
    "\n",
    "latent_df = pd.DataFrame(latent_matrix, index=user_movie_matrix_filled.index)"
   ]
  },
  {
   "cell_type": "code",
   "execution_count": null,
   "id": "d799fd1d",
   "metadata": {},
   "outputs": [],
   "source": [
    "def recommend_movies_svd(user_id, num_recommendations=5):\n",
    "    # Identify similar users based on latent factors\n",
    "\n",
    "    user_latent_vector = latent_df.loc[user_id].values.reshape(1, -1)\n",
    "    user_similarity = np.dot(latent_df, user_latent_vector.T).flatten()\n",
    "    user_movie_pred = np.dot(user_similarity, user_movie_matrix_filled.fillna(0))\n",
    "\n",
    "    # Rank movies based on predicted preferences\n",
    "    user_movie_pred_df = pd.Series(user_movie_pred, index=user_movie_matrix_filled.columns)\n",
    "    recommended_movies = user_movie_pred_df.sort_values(ascending=False).head(num_recommendations)\n",
    "   \n",
    "    \n",
    "    return recommended_movies.index.tolist()\n",
    "\n",
    "# Example usage: Get recommendations for user ID 300\n",
    "\n",
    "print(recommend_movies_svd(300))"
   ]
  },
  {
   "cell_type": "markdown",
   "id": "37ee82b8",
   "metadata": {},
   "source": [
    "> # **Testing the Movie Recommendation System**"
   ]
  },
  {
   "cell_type": "code",
   "execution_count": null,
   "id": "b853605b",
   "metadata": {},
   "outputs": [],
   "source": [
    "print(get_movie_recommendations(\"Star Wars (1977)\", 5))"
   ]
  },
  {
   "cell_type": "code",
   "execution_count": null,
   "id": "315df945",
   "metadata": {},
   "outputs": [],
   "source": [
    "# RECOMMEND A MOVIE FOR ANY USER FROM (USER>0) tO (USER>943) \n",
    "\n",
    "print(recommend_movies_for_user(873))\n",
    "print(recommend_movies_for_user(333))"
   ]
  },
  {
   "cell_type": "code",
   "execution_count": null,
   "id": "c8031f11",
   "metadata": {},
   "outputs": [],
   "source": [
    "# TEST YOUR DATASET INTEGRITY\n",
    "# DOES MOVIE TITLES EXIST\n",
    "print(movie_similarity_df.head())\n"
   ]
  },
  {
   "cell_type": "code",
   "execution_count": null,
   "id": "14e0d6c7",
   "metadata": {},
   "outputs": [],
   "source": [
    "# DOES USER ID's EXIST\n",
    "print(user_similarity_df.head())"
   ]
  },
  {
   "cell_type": "code",
   "execution_count": null,
   "id": "f2de5084",
   "metadata": {},
   "outputs": [],
   "source": [
    "# DEBUGGING COMMON ISSUES\n",
    "# DOUBLE CHECK IF THE MOVIE TITLE IS IT IN INDEX\n",
    "print(movie_similarity_df.index)"
   ]
  },
  {
   "cell_type": "code",
   "execution_count": null,
   "id": "5a7a7bcc",
   "metadata": {},
   "outputs": [],
   "source": [
    "# VERIFY IF THE USER ID IS IN INDEX\n",
    "print(user_similarity_df.index)"
   ]
  }
 ],
 "metadata": {
  "kernelspec": {
   "display_name": "Python 3",
   "language": "python",
   "name": "python3"
  },
  "language_info": {
   "codemirror_mode": {
    "name": "ipython",
    "version": 3
   },
   "file_extension": ".py",
   "mimetype": "text/x-python",
   "name": "python",
   "nbconvert_exporter": "python",
   "pygments_lexer": "ipython3",
   "version": "3.11.5"
  }
 },
 "nbformat": 4,
 "nbformat_minor": 5
}
